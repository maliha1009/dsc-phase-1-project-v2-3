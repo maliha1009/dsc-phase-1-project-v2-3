{
 "cells": [
  {
   "cell_type": "markdown",
   "metadata": {},
   "source": [
    "## Final Project Submission\n",
    "\n",
    "Please fill out:\n",
    "* Student name: Maliha Momtaj\n",
    "* Student pace: self paced / part time / full time: Part time\n",
    "* Scheduled project review date/time: Feb 1, 2022\n",
    "* Instructor name: Claude Fried\n",
    "* Blog post URL: https://dev.to/maliha1009/data-manipulation-in-python-4ag8\n"
   ]
  },
  {
   "cell_type": "markdown",
   "metadata": {},
   "source": [
    "# Overview\n",
    "Films are a big part of modern life. But with thousands of movies released each year, what makes certain movies into a phenomenon? What is it about select movies that capture the public’s attention and makes them successful? Is there a formula to it?\n",
    "Descriptive analysis of IMDb data reveal some components to consider while making a successful Film.\n",
    "\n",
    "Film runtime\n",
    "\n",
    "Film release year\n",
    "\n",
    "Production Budget\n",
    "\n",
    "Studio\n",
    "\n"
   ]
  },
  {
   "cell_type": "markdown",
   "metadata": {},
   "source": [
    "# Business Problem\n",
    "What components or factors to be considered while making a successful film?\n"
   ]
  },
  {
   "cell_type": "markdown",
   "metadata": {},
   "source": [
    "# Data & Methods\n",
    "This analysis is limited to data from IMDb, rt, tmdb. The metadata on films included in IMDb, rt, tmdb consist of year of release, genre, average ratings, movie run time, studio. \n"
   ]
  },
  {
   "cell_type": "code",
   "execution_count": 1,
   "metadata": {},
   "outputs": [],
   "source": [
    "import pandas as pd\n",
    "import numpy as np\n",
    "import seaborn as sns\n",
    "import matplotlib.pyplot as plt\n",
    "%matplotlib inline"
   ]
  },
  {
   "cell_type": "code",
   "execution_count": 2,
   "metadata": {},
   "outputs": [],
   "source": [
    "import matplotlib.pyplot as plt"
   ]
  },
  {
   "cell_type": "code",
   "execution_count": 3,
   "metadata": {},
   "outputs": [],
   "source": [
    "import pandas as pd\n",
    "import numpy as np"
   ]
  },
  {
   "cell_type": "markdown",
   "metadata": {},
   "source": [
    "Dataframe tmdb to be exported and name as csv1. \n",
    "This dataframe has movie ratings, release date which will be used to find the correlation."
   ]
  },
  {
   "cell_type": "code",
   "execution_count": 4,
   "metadata": {},
   "outputs": [
    {
     "data": {
      "text/html": [
       "<div>\n",
       "<style scoped>\n",
       "    .dataframe tbody tr th:only-of-type {\n",
       "        vertical-align: middle;\n",
       "    }\n",
       "\n",
       "    .dataframe tbody tr th {\n",
       "        vertical-align: top;\n",
       "    }\n",
       "\n",
       "    .dataframe thead th {\n",
       "        text-align: right;\n",
       "    }\n",
       "</style>\n",
       "<table border=\"1\" class=\"dataframe\">\n",
       "  <thead>\n",
       "    <tr style=\"text-align: right;\">\n",
       "      <th></th>\n",
       "      <th>Unnamed: 0</th>\n",
       "      <th>genre_ids</th>\n",
       "      <th>id</th>\n",
       "      <th>original_language</th>\n",
       "      <th>original_title</th>\n",
       "      <th>popularity</th>\n",
       "      <th>release_date</th>\n",
       "      <th>title</th>\n",
       "      <th>vote_average</th>\n",
       "      <th>vote_count</th>\n",
       "    </tr>\n",
       "  </thead>\n",
       "  <tbody>\n",
       "    <tr>\n",
       "      <th>0</th>\n",
       "      <td>0</td>\n",
       "      <td>[12, 14, 10751]</td>\n",
       "      <td>12444</td>\n",
       "      <td>en</td>\n",
       "      <td>Harry Potter and the Deathly Hallows: Part 1</td>\n",
       "      <td>33.533</td>\n",
       "      <td>2010-11-19</td>\n",
       "      <td>Harry Potter and the Deathly Hallows: Part 1</td>\n",
       "      <td>7.7</td>\n",
       "      <td>10788</td>\n",
       "    </tr>\n",
       "    <tr>\n",
       "      <th>1</th>\n",
       "      <td>1</td>\n",
       "      <td>[14, 12, 16, 10751]</td>\n",
       "      <td>10191</td>\n",
       "      <td>en</td>\n",
       "      <td>How to Train Your Dragon</td>\n",
       "      <td>28.734</td>\n",
       "      <td>2010-03-26</td>\n",
       "      <td>How to Train Your Dragon</td>\n",
       "      <td>7.7</td>\n",
       "      <td>7610</td>\n",
       "    </tr>\n",
       "    <tr>\n",
       "      <th>2</th>\n",
       "      <td>2</td>\n",
       "      <td>[12, 28, 878]</td>\n",
       "      <td>10138</td>\n",
       "      <td>en</td>\n",
       "      <td>Iron Man 2</td>\n",
       "      <td>28.515</td>\n",
       "      <td>2010-05-07</td>\n",
       "      <td>Iron Man 2</td>\n",
       "      <td>6.8</td>\n",
       "      <td>12368</td>\n",
       "    </tr>\n",
       "    <tr>\n",
       "      <th>3</th>\n",
       "      <td>3</td>\n",
       "      <td>[16, 35, 10751]</td>\n",
       "      <td>862</td>\n",
       "      <td>en</td>\n",
       "      <td>Toy Story</td>\n",
       "      <td>28.005</td>\n",
       "      <td>1995-11-22</td>\n",
       "      <td>Toy Story</td>\n",
       "      <td>7.9</td>\n",
       "      <td>10174</td>\n",
       "    </tr>\n",
       "    <tr>\n",
       "      <th>4</th>\n",
       "      <td>4</td>\n",
       "      <td>[28, 878, 12]</td>\n",
       "      <td>27205</td>\n",
       "      <td>en</td>\n",
       "      <td>Inception</td>\n",
       "      <td>27.920</td>\n",
       "      <td>2010-07-16</td>\n",
       "      <td>Inception</td>\n",
       "      <td>8.3</td>\n",
       "      <td>22186</td>\n",
       "    </tr>\n",
       "  </tbody>\n",
       "</table>\n",
       "</div>"
      ],
      "text/plain": [
       "   Unnamed: 0            genre_ids     id original_language  \\\n",
       "0           0      [12, 14, 10751]  12444                en   \n",
       "1           1  [14, 12, 16, 10751]  10191                en   \n",
       "2           2        [12, 28, 878]  10138                en   \n",
       "3           3      [16, 35, 10751]    862                en   \n",
       "4           4        [28, 878, 12]  27205                en   \n",
       "\n",
       "                                 original_title  popularity release_date  \\\n",
       "0  Harry Potter and the Deathly Hallows: Part 1      33.533   2010-11-19   \n",
       "1                      How to Train Your Dragon      28.734   2010-03-26   \n",
       "2                                    Iron Man 2      28.515   2010-05-07   \n",
       "3                                     Toy Story      28.005   1995-11-22   \n",
       "4                                     Inception      27.920   2010-07-16   \n",
       "\n",
       "                                          title  vote_average  vote_count  \n",
       "0  Harry Potter and the Deathly Hallows: Part 1           7.7       10788  \n",
       "1                      How to Train Your Dragon           7.7        7610  \n",
       "2                                    Iron Man 2           6.8       12368  \n",
       "3                                     Toy Story           7.9       10174  \n",
       "4                                     Inception           8.3       22186  "
      ]
     },
     "execution_count": 4,
     "metadata": {},
     "output_type": "execute_result"
    }
   ],
   "source": [
    "#export tmdb.movies.csv.gz as csv 1 into dataframe\n",
    "csv1 = pd.read_csv(\"zippeddata/tmdb.movies.csv.gz\") \n",
    "csv1.head()"
   ]
  },
  {
   "cell_type": "markdown",
   "metadata": {},
   "source": [
    "Dataframe tn.movie to be exported and name as csv2. \n",
    "This dataframe has production budget which will be used to find the correlation."
   ]
  },
  {
   "cell_type": "code",
   "execution_count": 5,
   "metadata": {},
   "outputs": [
    {
     "data": {
      "text/html": [
       "<div>\n",
       "<style scoped>\n",
       "    .dataframe tbody tr th:only-of-type {\n",
       "        vertical-align: middle;\n",
       "    }\n",
       "\n",
       "    .dataframe tbody tr th {\n",
       "        vertical-align: top;\n",
       "    }\n",
       "\n",
       "    .dataframe thead th {\n",
       "        text-align: right;\n",
       "    }\n",
       "</style>\n",
       "<table border=\"1\" class=\"dataframe\">\n",
       "  <thead>\n",
       "    <tr style=\"text-align: right;\">\n",
       "      <th></th>\n",
       "      <th>id</th>\n",
       "      <th>release_date</th>\n",
       "      <th>movie</th>\n",
       "      <th>production_budget</th>\n",
       "      <th>domestic_gross</th>\n",
       "      <th>worldwide_gross</th>\n",
       "    </tr>\n",
       "  </thead>\n",
       "  <tbody>\n",
       "    <tr>\n",
       "      <th>0</th>\n",
       "      <td>1</td>\n",
       "      <td>Dec 18, 2009</td>\n",
       "      <td>Avatar</td>\n",
       "      <td>$425,000,000</td>\n",
       "      <td>$760,507,625</td>\n",
       "      <td>$2,776,345,279</td>\n",
       "    </tr>\n",
       "    <tr>\n",
       "      <th>1</th>\n",
       "      <td>2</td>\n",
       "      <td>May 20, 2011</td>\n",
       "      <td>Pirates of the Caribbean: On Stranger Tides</td>\n",
       "      <td>$410,600,000</td>\n",
       "      <td>$241,063,875</td>\n",
       "      <td>$1,045,663,875</td>\n",
       "    </tr>\n",
       "    <tr>\n",
       "      <th>2</th>\n",
       "      <td>3</td>\n",
       "      <td>Jun 7, 2019</td>\n",
       "      <td>Dark Phoenix</td>\n",
       "      <td>$350,000,000</td>\n",
       "      <td>$42,762,350</td>\n",
       "      <td>$149,762,350</td>\n",
       "    </tr>\n",
       "    <tr>\n",
       "      <th>3</th>\n",
       "      <td>4</td>\n",
       "      <td>May 1, 2015</td>\n",
       "      <td>Avengers: Age of Ultron</td>\n",
       "      <td>$330,600,000</td>\n",
       "      <td>$459,005,868</td>\n",
       "      <td>$1,403,013,963</td>\n",
       "    </tr>\n",
       "    <tr>\n",
       "      <th>4</th>\n",
       "      <td>5</td>\n",
       "      <td>Dec 15, 2017</td>\n",
       "      <td>Star Wars Ep. VIII: The Last Jedi</td>\n",
       "      <td>$317,000,000</td>\n",
       "      <td>$620,181,382</td>\n",
       "      <td>$1,316,721,747</td>\n",
       "    </tr>\n",
       "  </tbody>\n",
       "</table>\n",
       "</div>"
      ],
      "text/plain": [
       "   id  release_date                                        movie  \\\n",
       "0   1  Dec 18, 2009                                       Avatar   \n",
       "1   2  May 20, 2011  Pirates of the Caribbean: On Stranger Tides   \n",
       "2   3   Jun 7, 2019                                 Dark Phoenix   \n",
       "3   4   May 1, 2015                      Avengers: Age of Ultron   \n",
       "4   5  Dec 15, 2017            Star Wars Ep. VIII: The Last Jedi   \n",
       "\n",
       "  production_budget domestic_gross worldwide_gross  \n",
       "0      $425,000,000   $760,507,625  $2,776,345,279  \n",
       "1      $410,600,000   $241,063,875  $1,045,663,875  \n",
       "2      $350,000,000    $42,762,350    $149,762,350  \n",
       "3      $330,600,000   $459,005,868  $1,403,013,963  \n",
       "4      $317,000,000   $620,181,382  $1,316,721,747  "
      ]
     },
     "execution_count": 5,
     "metadata": {},
     "output_type": "execute_result"
    }
   ],
   "source": [
    "#export tn.movie_budgets.csv.gz as csv 2 into dataframe\n",
    "csv2 = pd.read_csv(\"zippeddata/tn.movie_budgets.csv.gz\") \n",
    "csv2.head()"
   ]
  },
  {
   "cell_type": "markdown",
   "metadata": {},
   "source": [
    "Dataframe csv1 & csv2 will be merged or joined to get a complete file that list movie ratings, release date, budget. \n",
    "These data will be used to conduct the study."
   ]
  },
  {
   "cell_type": "code",
   "execution_count": 6,
   "metadata": {},
   "outputs": [
    {
     "data": {
      "text/html": [
       "<div>\n",
       "<style scoped>\n",
       "    .dataframe tbody tr th:only-of-type {\n",
       "        vertical-align: middle;\n",
       "    }\n",
       "\n",
       "    .dataframe tbody tr th {\n",
       "        vertical-align: top;\n",
       "    }\n",
       "\n",
       "    .dataframe thead th {\n",
       "        text-align: right;\n",
       "    }\n",
       "</style>\n",
       "<table border=\"1\" class=\"dataframe\">\n",
       "  <thead>\n",
       "    <tr style=\"text-align: right;\">\n",
       "      <th></th>\n",
       "      <th>idpopularity</th>\n",
       "      <th>release_datepopularity</th>\n",
       "      <th>production_budget</th>\n",
       "      <th>domestic_gross</th>\n",
       "      <th>worldwide_gross</th>\n",
       "      <th>Unnamed: 0</th>\n",
       "      <th>genre_ids</th>\n",
       "      <th>id</th>\n",
       "      <th>original_language</th>\n",
       "      <th>original_title</th>\n",
       "      <th>popularity</th>\n",
       "      <th>release_date</th>\n",
       "      <th>vote_average</th>\n",
       "      <th>vote_count</th>\n",
       "    </tr>\n",
       "  </thead>\n",
       "  <tbody>\n",
       "    <tr>\n",
       "      <th>#Horror</th>\n",
       "      <td>16</td>\n",
       "      <td>Nov 20, 2015</td>\n",
       "      <td>$1,500,000</td>\n",
       "      <td>$0</td>\n",
       "      <td>$0</td>\n",
       "      <td>14656.0</td>\n",
       "      <td>[18, 9648, 27, 53]</td>\n",
       "      <td>301325.0</td>\n",
       "      <td>de</td>\n",
       "      <td>#Horror</td>\n",
       "      <td>6.099</td>\n",
       "      <td>2015-11-20</td>\n",
       "      <td>3.3</td>\n",
       "      <td>102.0</td>\n",
       "    </tr>\n",
       "    <tr>\n",
       "      <th>(500) Days of Summer</th>\n",
       "      <td>55</td>\n",
       "      <td>Jul 17, 2009</td>\n",
       "      <td>$7,500,000</td>\n",
       "      <td>$32,425,665</td>\n",
       "      <td>$34,439,060</td>\n",
       "      <td>NaN</td>\n",
       "      <td>NaN</td>\n",
       "      <td>NaN</td>\n",
       "      <td>NaN</td>\n",
       "      <td>NaN</td>\n",
       "      <td>NaN</td>\n",
       "      <td>NaN</td>\n",
       "      <td>NaN</td>\n",
       "      <td>NaN</td>\n",
       "    </tr>\n",
       "    <tr>\n",
       "      <th>10 Cloverfield Lane</th>\n",
       "      <td>54</td>\n",
       "      <td>Mar 11, 2016</td>\n",
       "      <td>$5,000,000</td>\n",
       "      <td>$72,082,999</td>\n",
       "      <td>$108,286,422</td>\n",
       "      <td>17422.0</td>\n",
       "      <td>[53, 878, 18]</td>\n",
       "      <td>333371.0</td>\n",
       "      <td>en</td>\n",
       "      <td>10 Cloverfield Lane</td>\n",
       "      <td>17.892</td>\n",
       "      <td>2016-03-11</td>\n",
       "      <td>6.9</td>\n",
       "      <td>4629.0</td>\n",
       "    </tr>\n",
       "    <tr>\n",
       "      <th>10 Days in a Madhouse</th>\n",
       "      <td>48</td>\n",
       "      <td>Nov 11, 2015</td>\n",
       "      <td>$12,000,000</td>\n",
       "      <td>$14,616</td>\n",
       "      <td>$14,616</td>\n",
       "      <td>15907.0</td>\n",
       "      <td>[18]</td>\n",
       "      <td>345003.0</td>\n",
       "      <td>en</td>\n",
       "      <td>10 Days in a Madhouse</td>\n",
       "      <td>0.955</td>\n",
       "      <td>2015-11-20</td>\n",
       "      <td>5.4</td>\n",
       "      <td>7.0</td>\n",
       "    </tr>\n",
       "    <tr>\n",
       "      <th>10 Things I Hate About You</th>\n",
       "      <td>63</td>\n",
       "      <td>Mar 31, 1999</td>\n",
       "      <td>$13,000,000</td>\n",
       "      <td>$38,177,966</td>\n",
       "      <td>$60,413,950</td>\n",
       "      <td>NaN</td>\n",
       "      <td>NaN</td>\n",
       "      <td>NaN</td>\n",
       "      <td>NaN</td>\n",
       "      <td>NaN</td>\n",
       "      <td>NaN</td>\n",
       "      <td>NaN</td>\n",
       "      <td>NaN</td>\n",
       "      <td>NaN</td>\n",
       "    </tr>\n",
       "    <tr>\n",
       "      <th>...</th>\n",
       "      <td>...</td>\n",
       "      <td>...</td>\n",
       "      <td>...</td>\n",
       "      <td>...</td>\n",
       "      <td>...</td>\n",
       "      <td>...</td>\n",
       "      <td>...</td>\n",
       "      <td>...</td>\n",
       "      <td>...</td>\n",
       "      <td>...</td>\n",
       "      <td>...</td>\n",
       "      <td>...</td>\n",
       "      <td>...</td>\n",
       "      <td>...</td>\n",
       "    </tr>\n",
       "    <tr>\n",
       "      <th>mother!</th>\n",
       "      <td>59</td>\n",
       "      <td>Sep 15, 2017</td>\n",
       "      <td>$30,000,000</td>\n",
       "      <td>$17,800,004</td>\n",
       "      <td>$42,531,076</td>\n",
       "      <td>20707.0</td>\n",
       "      <td>[18, 27, 9648]</td>\n",
       "      <td>381283.0</td>\n",
       "      <td>en</td>\n",
       "      <td>mother!</td>\n",
       "      <td>15.227</td>\n",
       "      <td>2017-09-15</td>\n",
       "      <td>7.0</td>\n",
       "      <td>3458.0</td>\n",
       "    </tr>\n",
       "    <tr>\n",
       "      <th>xXx</th>\n",
       "      <td>98</td>\n",
       "      <td>Aug 9, 2002</td>\n",
       "      <td>$70,000,000</td>\n",
       "      <td>$141,930,000</td>\n",
       "      <td>$267,200,000</td>\n",
       "      <td>NaN</td>\n",
       "      <td>NaN</td>\n",
       "      <td>NaN</td>\n",
       "      <td>NaN</td>\n",
       "      <td>NaN</td>\n",
       "      <td>NaN</td>\n",
       "      <td>NaN</td>\n",
       "      <td>NaN</td>\n",
       "      <td>NaN</td>\n",
       "    </tr>\n",
       "    <tr>\n",
       "      <th>xXx: Return of Xander Cage</th>\n",
       "      <td>15</td>\n",
       "      <td>Jan 20, 2017</td>\n",
       "      <td>$85,000,000</td>\n",
       "      <td>$44,898,413</td>\n",
       "      <td>$345,033,359</td>\n",
       "      <td>20651.0</td>\n",
       "      <td>[28, 12, 80]</td>\n",
       "      <td>47971.0</td>\n",
       "      <td>en</td>\n",
       "      <td>xXx: Return of Xander Cage</td>\n",
       "      <td>21.749</td>\n",
       "      <td>2017-01-20</td>\n",
       "      <td>5.6</td>\n",
       "      <td>2452.0</td>\n",
       "    </tr>\n",
       "    <tr>\n",
       "      <th>Ã l\\'intÃ©rieur</th>\n",
       "      <td>57</td>\n",
       "      <td>Apr 15, 2008</td>\n",
       "      <td>$3,000,000</td>\n",
       "      <td>$0</td>\n",
       "      <td>$895,932</td>\n",
       "      <td>NaN</td>\n",
       "      <td>NaN</td>\n",
       "      <td>NaN</td>\n",
       "      <td>NaN</td>\n",
       "      <td>NaN</td>\n",
       "      <td>NaN</td>\n",
       "      <td>NaN</td>\n",
       "      <td>NaN</td>\n",
       "      <td>NaN</td>\n",
       "    </tr>\n",
       "    <tr>\n",
       "      <th>é·æ±ä¸è (CJ7)</th>\n",
       "      <td>2</td>\n",
       "      <td>Mar 7, 2008</td>\n",
       "      <td>$20,000,000</td>\n",
       "      <td>$206,678</td>\n",
       "      <td>$47,300,771</td>\n",
       "      <td>NaN</td>\n",
       "      <td>NaN</td>\n",
       "      <td>NaN</td>\n",
       "      <td>NaN</td>\n",
       "      <td>NaN</td>\n",
       "      <td>NaN</td>\n",
       "      <td>NaN</td>\n",
       "      <td>NaN</td>\n",
       "      <td>NaN</td>\n",
       "    </tr>\n",
       "  </tbody>\n",
       "</table>\n",
       "<p>6190 rows × 14 columns</p>\n",
       "</div>"
      ],
      "text/plain": [
       "                            idpopularity release_datepopularity  \\\n",
       "#Horror                               16           Nov 20, 2015   \n",
       "(500) Days of Summer                  55           Jul 17, 2009   \n",
       "10 Cloverfield Lane                   54           Mar 11, 2016   \n",
       "10 Days in a Madhouse                 48           Nov 11, 2015   \n",
       "10 Things I Hate About You            63           Mar 31, 1999   \n",
       "...                                  ...                    ...   \n",
       "mother!                               59           Sep 15, 2017   \n",
       "xXx                                   98            Aug 9, 2002   \n",
       "xXx: Return of Xander Cage            15           Jan 20, 2017   \n",
       "Ã l\\'intÃ©rieur                       57           Apr 15, 2008   \n",
       "é·æ±ä¸è (CJ7)                     2            Mar 7, 2008   \n",
       "\n",
       "                           production_budget domestic_gross worldwide_gross  \\\n",
       "#Horror                           $1,500,000             $0              $0   \n",
       "(500) Days of Summer              $7,500,000    $32,425,665     $34,439,060   \n",
       "10 Cloverfield Lane               $5,000,000    $72,082,999    $108,286,422   \n",
       "10 Days in a Madhouse            $12,000,000        $14,616         $14,616   \n",
       "10 Things I Hate About You       $13,000,000    $38,177,966     $60,413,950   \n",
       "...                                      ...            ...             ...   \n",
       "mother!                          $30,000,000    $17,800,004     $42,531,076   \n",
       "xXx                              $70,000,000   $141,930,000    $267,200,000   \n",
       "xXx: Return of Xander Cage       $85,000,000    $44,898,413    $345,033,359   \n",
       "Ã l\\'intÃ©rieur                   $3,000,000             $0        $895,932   \n",
       "é·æ±ä¸è (CJ7)               $20,000,000       $206,678     $47,300,771   \n",
       "\n",
       "                            Unnamed: 0           genre_ids        id  \\\n",
       "#Horror                        14656.0  [18, 9648, 27, 53]  301325.0   \n",
       "(500) Days of Summer               NaN                 NaN       NaN   \n",
       "10 Cloverfield Lane            17422.0       [53, 878, 18]  333371.0   \n",
       "10 Days in a Madhouse          15907.0                [18]  345003.0   \n",
       "10 Things I Hate About You         NaN                 NaN       NaN   \n",
       "...                                ...                 ...       ...   \n",
       "mother!                        20707.0      [18, 27, 9648]  381283.0   \n",
       "xXx                                NaN                 NaN       NaN   \n",
       "xXx: Return of Xander Cage     20651.0        [28, 12, 80]   47971.0   \n",
       "Ã l\\'intÃ©rieur                    NaN                 NaN       NaN   \n",
       "é·æ±ä¸è (CJ7)                 NaN                 NaN       NaN   \n",
       "\n",
       "                           original_language              original_title  \\\n",
       "#Horror                                   de                     #Horror   \n",
       "(500) Days of Summer                     NaN                         NaN   \n",
       "10 Cloverfield Lane                       en         10 Cloverfield Lane   \n",
       "10 Days in a Madhouse                     en       10 Days in a Madhouse   \n",
       "10 Things I Hate About You               NaN                         NaN   \n",
       "...                                      ...                         ...   \n",
       "mother!                                   en                     mother!   \n",
       "xXx                                      NaN                         NaN   \n",
       "xXx: Return of Xander Cage                en  xXx: Return of Xander Cage   \n",
       "Ã l\\'intÃ©rieur                          NaN                         NaN   \n",
       "é·æ±ä¸è (CJ7)                       NaN                         NaN   \n",
       "\n",
       "                            popularity release_date  vote_average  vote_count  \n",
       "#Horror                          6.099   2015-11-20           3.3       102.0  \n",
       "(500) Days of Summer               NaN          NaN           NaN         NaN  \n",
       "10 Cloverfield Lane             17.892   2016-03-11           6.9      4629.0  \n",
       "10 Days in a Madhouse            0.955   2015-11-20           5.4         7.0  \n",
       "10 Things I Hate About You         NaN          NaN           NaN         NaN  \n",
       "...                                ...          ...           ...         ...  \n",
       "mother!                         15.227   2017-09-15           7.0      3458.0  \n",
       "xXx                                NaN          NaN           NaN         NaN  \n",
       "xXx: Return of Xander Cage      21.749   2017-01-20           5.6      2452.0  \n",
       "Ã l\\'intÃ©rieur                    NaN          NaN           NaN         NaN  \n",
       "é·æ±ä¸è (CJ7)                 NaN          NaN           NaN         NaN  \n",
       "\n",
       "[6190 rows x 14 columns]"
      ]
     },
     "execution_count": 6,
     "metadata": {},
     "output_type": "execute_result"
    }
   ],
   "source": [
    "#Merging csv2 & csv1 for the columns; prefix with popularity to make it distinct\n",
    "\n",
    "df = csv2.set_index('movie').join(csv1.set_index('title'),lsuffix='popularity')\n",
    "df"
   ]
  },
  {
   "cell_type": "markdown",
   "metadata": {},
   "source": [
    "Since movie ratings or popularity will be used for this analysis, any value \"NaN\" should be excluded from the popularity row.\n"
   ]
  },
  {
   "cell_type": "code",
   "execution_count": 7,
   "metadata": {},
   "outputs": [
    {
     "name": "stdout",
     "output_type": "stream",
     "text": [
      "Empty DataFrame\n",
      "Columns: [idpopularity, release_datepopularity, production_budget, domestic_gross, worldwide_gross, Unnamed: 0, genre_ids, id, original_language, original_title, popularity, release_date, vote_average, vote_count]\n",
      "Index: []\n"
     ]
    }
   ],
   "source": [
    "#removing NaN, every row should have value\n",
    "\n",
    "is_NaN = df[df['popularity']==np.NaN]\n",
    "print(is_NaN.head())"
   ]
  },
  {
   "cell_type": "markdown",
   "metadata": {},
   "source": [
    "For the analysis, we would try to see if there is a specific genre get higher or lower rating. \n",
    "Therefore, we would create a collective column that will flag which genre the movie is."
   ]
  },
  {
   "cell_type": "code",
   "execution_count": 8,
   "metadata": {},
   "outputs": [],
   "source": [
    "# collective columns includes a specific genre\n",
    "def is_genre(x, genre):\n",
    "    try:\n",
    "        if genre in x:\n",
    "            return True\n",
    "        else:\n",
    "            return False\n",
    "    except TypeError as te:\n",
    "        return False"
   ]
  },
  {
   "cell_type": "code",
   "execution_count": 9,
   "metadata": {},
   "outputs": [],
   "source": [
    "# to flag specific genre\n",
    "def is_comedy(x):\n",
    "    return is_genre(x, 'Comedy')"
   ]
  },
  {
   "cell_type": "code",
   "execution_count": 10,
   "metadata": {},
   "outputs": [],
   "source": [
    "# to flag specific genre\n",
    "def is_action(x):\n",
    "    return is_genre(x, 'Action')\n",
    "    "
   ]
  },
  {
   "cell_type": "code",
   "execution_count": 11,
   "metadata": {},
   "outputs": [],
   "source": [
    "# to flag specific genre\n",
    "def is_romance(x):\n",
    "    return is_genre(x, 'Romance')"
   ]
  },
  {
   "cell_type": "code",
   "execution_count": 12,
   "metadata": {},
   "outputs": [],
   "source": [
    "# to flag specific genre\n",
    "def is_horror(x):\n",
    "    return is_genre(x, 'Horror')"
   ]
  },
  {
   "cell_type": "markdown",
   "metadata": {},
   "source": [
    "For this study, more dataframe to be loaded and named as name_basics to read in pandas."
   ]
  },
  {
   "cell_type": "code",
   "execution_count": 13,
   "metadata": {},
   "outputs": [],
   "source": [
    "#loading more data from imdb.name.basics.csv.gz\n",
    "name_basics = pd.read_csv('zippedData/imdb.name.basics.csv.gz')"
   ]
  },
  {
   "cell_type": "code",
   "execution_count": 14,
   "metadata": {},
   "outputs": [],
   "source": [
    "# Following 2 fields were not used for this analysis.\n",
    "#str that contain multiple values, value was not used\n",
    "\n",
    "name_basics['known_for_titles']=name_basics.known_for_titles.str.split('.')\n",
    "name_basics['primary_profession']=name_basics.primary_profession.str.split('.')"
   ]
  },
  {
   "cell_type": "markdown",
   "metadata": {},
   "source": [
    "For this study, more dataframe to be loaded and read and named as title_basics."
   ]
  },
  {
   "cell_type": "code",
   "execution_count": 15,
   "metadata": {},
   "outputs": [],
   "source": [
    "#loading more values imdb.title.basics.csv\n",
    "title_basics = pd.read_csv('zippedData/imdb.title.basics.csv.gz')"
   ]
  },
  {
   "cell_type": "code",
   "execution_count": 16,
   "metadata": {},
   "outputs": [],
   "source": [
    "title_basics['genres'] = title_basics.genres.str.split(',')"
   ]
  },
  {
   "cell_type": "code",
   "execution_count": 17,
   "metadata": {},
   "outputs": [],
   "source": [
    "#loading more values into dataframe\n",
    "title_ratings = pd.read_csv('zippedData/imdb.title.ratings.csv.gz')"
   ]
  },
  {
   "cell_type": "code",
   "execution_count": 18,
   "metadata": {},
   "outputs": [],
   "source": [
    "#loading more values into dataframe\n",
    "title_principals = pd.read_csv('zippedData/imdb.title.principals.csv.gz')"
   ]
  },
  {
   "cell_type": "code",
   "execution_count": 19,
   "metadata": {},
   "outputs": [],
   "source": [
    "#loading more values into dataframe\n",
    "title_crew = pd.read_csv('zippedData/imdb.title.crew.csv.gz')"
   ]
  },
  {
   "cell_type": "code",
   "execution_count": 20,
   "metadata": {},
   "outputs": [],
   "source": [
    "# to join files with ratings & basics\n",
    "imdb_df = title_ratings.set_index('tconst').join(title_basics.set_index('tconst'))"
   ]
  },
  {
   "cell_type": "code",
   "execution_count": 21,
   "metadata": {},
   "outputs": [],
   "source": [
    "# to merge the csv files\n",
    "#imdb_df = imdb_df.join(title_principals.set_index('tconst'))"
   ]
  },
  {
   "cell_type": "code",
   "execution_count": 22,
   "metadata": {},
   "outputs": [],
   "source": [
    "# to merge the csv files\n",
    "#imdb_df = imdb_df.join(title_crew.set_index('tconst'), rsuffix = 'crew')"
   ]
  },
  {
   "cell_type": "code",
   "execution_count": 23,
   "metadata": {},
   "outputs": [],
   "source": [
    "#to flag specific genre\n",
    "imdb_df['is_comedy']=imdb_df.genres.apply(is_comedy)"
   ]
  },
  {
   "cell_type": "code",
   "execution_count": 24,
   "metadata": {},
   "outputs": [],
   "source": [
    "#to flag specific genre\n",
    "imdb_df['is_action']=imdb_df.genres.apply(is_action)"
   ]
  },
  {
   "cell_type": "code",
   "execution_count": 25,
   "metadata": {},
   "outputs": [],
   "source": [
    "#to flag specific genre\n",
    "imdb_df['is_horror']=imdb_df.genres.apply(is_horror)"
   ]
  },
  {
   "cell_type": "code",
   "execution_count": 26,
   "metadata": {},
   "outputs": [],
   "source": [
    "#to flag specific genre\n",
    "imdb_df['is_romance']=imdb_df.genres.apply(is_romance)"
   ]
  },
  {
   "cell_type": "markdown",
   "metadata": {},
   "source": [
    "The new combined file is as follows. This dataframe will be used to analyze and find correlation between movie ratings, run time, release year."
   ]
  },
  {
   "cell_type": "code",
   "execution_count": 27,
   "metadata": {
    "scrolled": true
   },
   "outputs": [
    {
     "data": {
      "text/html": [
       "<div>\n",
       "<style scoped>\n",
       "    .dataframe tbody tr th:only-of-type {\n",
       "        vertical-align: middle;\n",
       "    }\n",
       "\n",
       "    .dataframe tbody tr th {\n",
       "        vertical-align: top;\n",
       "    }\n",
       "\n",
       "    .dataframe thead th {\n",
       "        text-align: right;\n",
       "    }\n",
       "</style>\n",
       "<table border=\"1\" class=\"dataframe\">\n",
       "  <thead>\n",
       "    <tr style=\"text-align: right;\">\n",
       "      <th></th>\n",
       "      <th>averagerating</th>\n",
       "      <th>numvotes</th>\n",
       "      <th>primary_title</th>\n",
       "      <th>original_title</th>\n",
       "      <th>start_year</th>\n",
       "      <th>runtime_minutes</th>\n",
       "      <th>genres</th>\n",
       "      <th>is_comedy</th>\n",
       "      <th>is_action</th>\n",
       "      <th>is_horror</th>\n",
       "      <th>is_romance</th>\n",
       "    </tr>\n",
       "    <tr>\n",
       "      <th>tconst</th>\n",
       "      <th></th>\n",
       "      <th></th>\n",
       "      <th></th>\n",
       "      <th></th>\n",
       "      <th></th>\n",
       "      <th></th>\n",
       "      <th></th>\n",
       "      <th></th>\n",
       "      <th></th>\n",
       "      <th></th>\n",
       "      <th></th>\n",
       "    </tr>\n",
       "  </thead>\n",
       "  <tbody>\n",
       "    <tr>\n",
       "      <th>tt10356526</th>\n",
       "      <td>8.3</td>\n",
       "      <td>31</td>\n",
       "      <td>Laiye Je Yaarian</td>\n",
       "      <td>Laiye Je Yaarian</td>\n",
       "      <td>2019</td>\n",
       "      <td>117.0</td>\n",
       "      <td>[Romance]</td>\n",
       "      <td>False</td>\n",
       "      <td>False</td>\n",
       "      <td>False</td>\n",
       "      <td>True</td>\n",
       "    </tr>\n",
       "    <tr>\n",
       "      <th>tt10384606</th>\n",
       "      <td>8.9</td>\n",
       "      <td>559</td>\n",
       "      <td>Borderless</td>\n",
       "      <td>Borderless</td>\n",
       "      <td>2019</td>\n",
       "      <td>87.0</td>\n",
       "      <td>[Documentary]</td>\n",
       "      <td>False</td>\n",
       "      <td>False</td>\n",
       "      <td>False</td>\n",
       "      <td>False</td>\n",
       "    </tr>\n",
       "    <tr>\n",
       "      <th>tt1042974</th>\n",
       "      <td>6.4</td>\n",
       "      <td>20</td>\n",
       "      <td>Just Inès</td>\n",
       "      <td>Just Inès</td>\n",
       "      <td>2010</td>\n",
       "      <td>90.0</td>\n",
       "      <td>[Drama]</td>\n",
       "      <td>False</td>\n",
       "      <td>False</td>\n",
       "      <td>False</td>\n",
       "      <td>False</td>\n",
       "    </tr>\n",
       "    <tr>\n",
       "      <th>tt1043726</th>\n",
       "      <td>4.2</td>\n",
       "      <td>50352</td>\n",
       "      <td>The Legend of Hercules</td>\n",
       "      <td>The Legend of Hercules</td>\n",
       "      <td>2014</td>\n",
       "      <td>99.0</td>\n",
       "      <td>[Action, Adventure, Fantasy]</td>\n",
       "      <td>False</td>\n",
       "      <td>True</td>\n",
       "      <td>False</td>\n",
       "      <td>False</td>\n",
       "    </tr>\n",
       "    <tr>\n",
       "      <th>tt1060240</th>\n",
       "      <td>6.5</td>\n",
       "      <td>21</td>\n",
       "      <td>Até Onde?</td>\n",
       "      <td>Até Onde?</td>\n",
       "      <td>2011</td>\n",
       "      <td>73.0</td>\n",
       "      <td>[Mystery, Thriller]</td>\n",
       "      <td>False</td>\n",
       "      <td>False</td>\n",
       "      <td>False</td>\n",
       "      <td>False</td>\n",
       "    </tr>\n",
       "    <tr>\n",
       "      <th>...</th>\n",
       "      <td>...</td>\n",
       "      <td>...</td>\n",
       "      <td>...</td>\n",
       "      <td>...</td>\n",
       "      <td>...</td>\n",
       "      <td>...</td>\n",
       "      <td>...</td>\n",
       "      <td>...</td>\n",
       "      <td>...</td>\n",
       "      <td>...</td>\n",
       "      <td>...</td>\n",
       "    </tr>\n",
       "    <tr>\n",
       "      <th>tt9805820</th>\n",
       "      <td>8.1</td>\n",
       "      <td>25</td>\n",
       "      <td>Caisa</td>\n",
       "      <td>Caisa</td>\n",
       "      <td>2018</td>\n",
       "      <td>84.0</td>\n",
       "      <td>[Documentary]</td>\n",
       "      <td>False</td>\n",
       "      <td>False</td>\n",
       "      <td>False</td>\n",
       "      <td>False</td>\n",
       "    </tr>\n",
       "    <tr>\n",
       "      <th>tt9844256</th>\n",
       "      <td>7.5</td>\n",
       "      <td>24</td>\n",
       "      <td>Code Geass: Lelouch of the Rebellion - Glorifi...</td>\n",
       "      <td>Code Geass: Lelouch of the Rebellion Episode III</td>\n",
       "      <td>2018</td>\n",
       "      <td>120.0</td>\n",
       "      <td>[Action, Animation, Sci-Fi]</td>\n",
       "      <td>False</td>\n",
       "      <td>True</td>\n",
       "      <td>False</td>\n",
       "      <td>False</td>\n",
       "    </tr>\n",
       "    <tr>\n",
       "      <th>tt9851050</th>\n",
       "      <td>4.7</td>\n",
       "      <td>14</td>\n",
       "      <td>Sisters</td>\n",
       "      <td>Sisters</td>\n",
       "      <td>2019</td>\n",
       "      <td>NaN</td>\n",
       "      <td>[Action, Drama]</td>\n",
       "      <td>False</td>\n",
       "      <td>True</td>\n",
       "      <td>False</td>\n",
       "      <td>False</td>\n",
       "    </tr>\n",
       "    <tr>\n",
       "      <th>tt9886934</th>\n",
       "      <td>7.0</td>\n",
       "      <td>5</td>\n",
       "      <td>The Projectionist</td>\n",
       "      <td>The Projectionist</td>\n",
       "      <td>2019</td>\n",
       "      <td>81.0</td>\n",
       "      <td>[Documentary]</td>\n",
       "      <td>False</td>\n",
       "      <td>False</td>\n",
       "      <td>False</td>\n",
       "      <td>False</td>\n",
       "    </tr>\n",
       "    <tr>\n",
       "      <th>tt9894098</th>\n",
       "      <td>6.3</td>\n",
       "      <td>128</td>\n",
       "      <td>Sathru</td>\n",
       "      <td>Sathru</td>\n",
       "      <td>2019</td>\n",
       "      <td>129.0</td>\n",
       "      <td>[Thriller]</td>\n",
       "      <td>False</td>\n",
       "      <td>False</td>\n",
       "      <td>False</td>\n",
       "      <td>False</td>\n",
       "    </tr>\n",
       "  </tbody>\n",
       "</table>\n",
       "<p>73856 rows × 11 columns</p>\n",
       "</div>"
      ],
      "text/plain": [
       "            averagerating  numvotes  \\\n",
       "tconst                                \n",
       "tt10356526            8.3        31   \n",
       "tt10384606            8.9       559   \n",
       "tt1042974             6.4        20   \n",
       "tt1043726             4.2     50352   \n",
       "tt1060240             6.5        21   \n",
       "...                   ...       ...   \n",
       "tt9805820             8.1        25   \n",
       "tt9844256             7.5        24   \n",
       "tt9851050             4.7        14   \n",
       "tt9886934             7.0         5   \n",
       "tt9894098             6.3       128   \n",
       "\n",
       "                                                primary_title  \\\n",
       "tconst                                                          \n",
       "tt10356526                                   Laiye Je Yaarian   \n",
       "tt10384606                                         Borderless   \n",
       "tt1042974                                           Just Inès   \n",
       "tt1043726                              The Legend of Hercules   \n",
       "tt1060240                                           Até Onde?   \n",
       "...                                                       ...   \n",
       "tt9805820                                               Caisa   \n",
       "tt9844256   Code Geass: Lelouch of the Rebellion - Glorifi...   \n",
       "tt9851050                                             Sisters   \n",
       "tt9886934                                   The Projectionist   \n",
       "tt9894098                                              Sathru   \n",
       "\n",
       "                                              original_title  start_year  \\\n",
       "tconst                                                                     \n",
       "tt10356526                                  Laiye Je Yaarian        2019   \n",
       "tt10384606                                        Borderless        2019   \n",
       "tt1042974                                          Just Inès        2010   \n",
       "tt1043726                             The Legend of Hercules        2014   \n",
       "tt1060240                                          Até Onde?        2011   \n",
       "...                                                      ...         ...   \n",
       "tt9805820                                              Caisa        2018   \n",
       "tt9844256   Code Geass: Lelouch of the Rebellion Episode III        2018   \n",
       "tt9851050                                            Sisters        2019   \n",
       "tt9886934                                  The Projectionist        2019   \n",
       "tt9894098                                             Sathru        2019   \n",
       "\n",
       "            runtime_minutes                        genres  is_comedy  \\\n",
       "tconst                                                                 \n",
       "tt10356526            117.0                     [Romance]      False   \n",
       "tt10384606             87.0                 [Documentary]      False   \n",
       "tt1042974              90.0                       [Drama]      False   \n",
       "tt1043726              99.0  [Action, Adventure, Fantasy]      False   \n",
       "tt1060240              73.0           [Mystery, Thriller]      False   \n",
       "...                     ...                           ...        ...   \n",
       "tt9805820              84.0                 [Documentary]      False   \n",
       "tt9844256             120.0   [Action, Animation, Sci-Fi]      False   \n",
       "tt9851050               NaN               [Action, Drama]      False   \n",
       "tt9886934              81.0                 [Documentary]      False   \n",
       "tt9894098             129.0                    [Thriller]      False   \n",
       "\n",
       "            is_action  is_horror  is_romance  \n",
       "tconst                                        \n",
       "tt10356526      False      False        True  \n",
       "tt10384606      False      False       False  \n",
       "tt1042974       False      False       False  \n",
       "tt1043726        True      False       False  \n",
       "tt1060240       False      False       False  \n",
       "...               ...        ...         ...  \n",
       "tt9805820       False      False       False  \n",
       "tt9844256        True      False       False  \n",
       "tt9851050        True      False       False  \n",
       "tt9886934       False      False       False  \n",
       "tt9894098       False      False       False  \n",
       "\n",
       "[73856 rows x 11 columns]"
      ]
     },
     "execution_count": 27,
     "metadata": {},
     "output_type": "execute_result"
    }
   ],
   "source": [
    "imdb_df"
   ]
  },
  {
   "cell_type": "code",
   "execution_count": 28,
   "metadata": {},
   "outputs": [
    {
     "data": {
      "text/plain": [
       "Index(['averagerating', 'numvotes', 'primary_title', 'original_title',\n",
       "       'start_year', 'runtime_minutes', 'genres', 'is_comedy', 'is_action',\n",
       "       'is_horror', 'is_romance'],\n",
       "      dtype='object')"
      ]
     },
     "execution_count": 28,
     "metadata": {},
     "output_type": "execute_result"
    }
   ],
   "source": [
    "# to see the columns\n",
    "imdb_df.columns"
   ]
  },
  {
   "cell_type": "code",
   "execution_count": 29,
   "metadata": {},
   "outputs": [],
   "source": [
    "#loading more values into dataframe\n",
    "bom_df = pd.read_csv('zippedData/bom.movie_gross.csv.gz')"
   ]
  },
  {
   "cell_type": "code",
   "execution_count": 30,
   "metadata": {},
   "outputs": [],
   "source": [
    "#loading more values into dataframe\n",
    "tn_budgets_df = pd.read_csv('zippedData/tn.movie_budgets.csv.gz')"
   ]
  },
  {
   "cell_type": "code",
   "execution_count": 31,
   "metadata": {},
   "outputs": [],
   "source": [
    "#merging 2 files\n",
    "ib_df = imdb_df.set_index('primary_title').join(bom_df.set_index('title'))"
   ]
  },
  {
   "cell_type": "code",
   "execution_count": 32,
   "metadata": {},
   "outputs": [],
   "source": [
    "filtered_ib_df = ib_df[~np.isnan(ib_df['domestic_gross'])]"
   ]
  },
  {
   "cell_type": "code",
   "execution_count": 33,
   "metadata": {},
   "outputs": [],
   "source": [
    "#to merge\n",
    "all_df = filtered_ib_df.join(tn_budgets_df.set_index('movie'),rsuffix='_tn')"
   ]
  },
  {
   "cell_type": "code",
   "execution_count": 34,
   "metadata": {},
   "outputs": [],
   "source": [
    "filtered_all_df = all_df[-np.isnan(all_df['id'])]"
   ]
  },
  {
   "cell_type": "code",
   "execution_count": 35,
   "metadata": {},
   "outputs": [],
   "source": [
    "filtered_all_df.to_csv('output.csv')"
   ]
  },
  {
   "cell_type": "code",
   "execution_count": 36,
   "metadata": {},
   "outputs": [
    {
     "data": {
      "text/html": [
       "<div>\n",
       "<style scoped>\n",
       "    .dataframe tbody tr th:only-of-type {\n",
       "        vertical-align: middle;\n",
       "    }\n",
       "\n",
       "    .dataframe tbody tr th {\n",
       "        vertical-align: top;\n",
       "    }\n",
       "\n",
       "    .dataframe thead th {\n",
       "        text-align: right;\n",
       "    }\n",
       "</style>\n",
       "<table border=\"1\" class=\"dataframe\">\n",
       "  <thead>\n",
       "    <tr style=\"text-align: right;\">\n",
       "      <th></th>\n",
       "      <th>averagerating</th>\n",
       "      <th>numvotes</th>\n",
       "      <th>original_title</th>\n",
       "      <th>start_year</th>\n",
       "      <th>runtime_minutes</th>\n",
       "      <th>genres</th>\n",
       "      <th>is_comedy</th>\n",
       "      <th>is_action</th>\n",
       "      <th>is_horror</th>\n",
       "      <th>is_romance</th>\n",
       "      <th>studio</th>\n",
       "      <th>domestic_gross</th>\n",
       "      <th>foreign_gross</th>\n",
       "      <th>year</th>\n",
       "      <th>id</th>\n",
       "      <th>release_date</th>\n",
       "      <th>production_budget</th>\n",
       "      <th>domestic_gross_tn</th>\n",
       "      <th>worldwide_gross</th>\n",
       "    </tr>\n",
       "  </thead>\n",
       "  <tbody>\n",
       "    <tr>\n",
       "      <th>10 Cloverfield Lane</th>\n",
       "      <td>7.2</td>\n",
       "      <td>260383</td>\n",
       "      <td>10 Cloverfield Lane</td>\n",
       "      <td>2016</td>\n",
       "      <td>103.0</td>\n",
       "      <td>[Drama, Horror, Mystery]</td>\n",
       "      <td>False</td>\n",
       "      <td>False</td>\n",
       "      <td>True</td>\n",
       "      <td>False</td>\n",
       "      <td>Par.</td>\n",
       "      <td>72100000.0</td>\n",
       "      <td>38100000</td>\n",
       "      <td>2016.0</td>\n",
       "      <td>54.0</td>\n",
       "      <td>Mar 11, 2016</td>\n",
       "      <td>$5,000,000</td>\n",
       "      <td>$72,082,999</td>\n",
       "      <td>$108,286,422</td>\n",
       "    </tr>\n",
       "    <tr>\n",
       "      <th>12 Strong</th>\n",
       "      <td>6.6</td>\n",
       "      <td>50155</td>\n",
       "      <td>12 Strong</td>\n",
       "      <td>2018</td>\n",
       "      <td>130.0</td>\n",
       "      <td>[Action, Drama, History]</td>\n",
       "      <td>False</td>\n",
       "      <td>True</td>\n",
       "      <td>False</td>\n",
       "      <td>False</td>\n",
       "      <td>WB</td>\n",
       "      <td>45800000.0</td>\n",
       "      <td>21600000</td>\n",
       "      <td>2018.0</td>\n",
       "      <td>64.0</td>\n",
       "      <td>Jan 19, 2018</td>\n",
       "      <td>$35,000,000</td>\n",
       "      <td>$45,819,713</td>\n",
       "      <td>$71,118,378</td>\n",
       "    </tr>\n",
       "    <tr>\n",
       "      <th>12 Years a Slave</th>\n",
       "      <td>8.1</td>\n",
       "      <td>577301</td>\n",
       "      <td>12 Years a Slave</td>\n",
       "      <td>2013</td>\n",
       "      <td>134.0</td>\n",
       "      <td>[Biography, Drama, History]</td>\n",
       "      <td>False</td>\n",
       "      <td>False</td>\n",
       "      <td>False</td>\n",
       "      <td>False</td>\n",
       "      <td>FoxS</td>\n",
       "      <td>56700000.0</td>\n",
       "      <td>131100000</td>\n",
       "      <td>2013.0</td>\n",
       "      <td>18.0</td>\n",
       "      <td>Oct 18, 2013</td>\n",
       "      <td>$20,000,000</td>\n",
       "      <td>$56,671,993</td>\n",
       "      <td>$181,025,343</td>\n",
       "    </tr>\n",
       "    <tr>\n",
       "      <th>127 Hours</th>\n",
       "      <td>7.6</td>\n",
       "      <td>323949</td>\n",
       "      <td>127 Hours</td>\n",
       "      <td>2010</td>\n",
       "      <td>94.0</td>\n",
       "      <td>[Adventure, Biography, Drama]</td>\n",
       "      <td>False</td>\n",
       "      <td>False</td>\n",
       "      <td>False</td>\n",
       "      <td>False</td>\n",
       "      <td>FoxS</td>\n",
       "      <td>18300000.0</td>\n",
       "      <td>42400000</td>\n",
       "      <td>2010.0</td>\n",
       "      <td>6.0</td>\n",
       "      <td>Nov 5, 2010</td>\n",
       "      <td>$18,000,000</td>\n",
       "      <td>$18,335,230</td>\n",
       "      <td>$60,217,171</td>\n",
       "    </tr>\n",
       "    <tr>\n",
       "      <th>13 Sins</th>\n",
       "      <td>6.3</td>\n",
       "      <td>29550</td>\n",
       "      <td>13 Sins</td>\n",
       "      <td>2014</td>\n",
       "      <td>93.0</td>\n",
       "      <td>[Horror, Thriller]</td>\n",
       "      <td>False</td>\n",
       "      <td>False</td>\n",
       "      <td>True</td>\n",
       "      <td>False</td>\n",
       "      <td>RTWC</td>\n",
       "      <td>13800.0</td>\n",
       "      <td>NaN</td>\n",
       "      <td>2014.0</td>\n",
       "      <td>51.0</td>\n",
       "      <td>Apr 18, 2014</td>\n",
       "      <td>$4,000,000</td>\n",
       "      <td>$9,134</td>\n",
       "      <td>$47,552</td>\n",
       "    </tr>\n",
       "    <tr>\n",
       "      <th>...</th>\n",
       "      <td>...</td>\n",
       "      <td>...</td>\n",
       "      <td>...</td>\n",
       "      <td>...</td>\n",
       "      <td>...</td>\n",
       "      <td>...</td>\n",
       "      <td>...</td>\n",
       "      <td>...</td>\n",
       "      <td>...</td>\n",
       "      <td>...</td>\n",
       "      <td>...</td>\n",
       "      <td>...</td>\n",
       "      <td>...</td>\n",
       "      <td>...</td>\n",
       "      <td>...</td>\n",
       "      <td>...</td>\n",
       "      <td>...</td>\n",
       "      <td>...</td>\n",
       "      <td>...</td>\n",
       "    </tr>\n",
       "    <tr>\n",
       "      <th>Youth</th>\n",
       "      <td>7.3</td>\n",
       "      <td>64418</td>\n",
       "      <td>Youth</td>\n",
       "      <td>2015</td>\n",
       "      <td>124.0</td>\n",
       "      <td>[Comedy, Drama, Music]</td>\n",
       "      <td>True</td>\n",
       "      <td>False</td>\n",
       "      <td>False</td>\n",
       "      <td>False</td>\n",
       "      <td>FoxS</td>\n",
       "      <td>2700000.0</td>\n",
       "      <td>NaN</td>\n",
       "      <td>2015.0</td>\n",
       "      <td>99.0</td>\n",
       "      <td>Dec 4, 2015</td>\n",
       "      <td>$13,000,000</td>\n",
       "      <td>$2,703,296</td>\n",
       "      <td>$24,001,573</td>\n",
       "    </tr>\n",
       "    <tr>\n",
       "      <th>Zero Dark Thirty</th>\n",
       "      <td>7.4</td>\n",
       "      <td>251072</td>\n",
       "      <td>Zero Dark Thirty</td>\n",
       "      <td>2012</td>\n",
       "      <td>157.0</td>\n",
       "      <td>[Drama, Thriller]</td>\n",
       "      <td>False</td>\n",
       "      <td>False</td>\n",
       "      <td>False</td>\n",
       "      <td>False</td>\n",
       "      <td>Sony</td>\n",
       "      <td>95700000.0</td>\n",
       "      <td>37100000</td>\n",
       "      <td>2012.0</td>\n",
       "      <td>66.0</td>\n",
       "      <td>Dec 19, 2012</td>\n",
       "      <td>$52,500,000</td>\n",
       "      <td>$95,720,716</td>\n",
       "      <td>$134,612,435</td>\n",
       "    </tr>\n",
       "    <tr>\n",
       "      <th>Zookeeper</th>\n",
       "      <td>5.2</td>\n",
       "      <td>52396</td>\n",
       "      <td>Zookeeper</td>\n",
       "      <td>2011</td>\n",
       "      <td>102.0</td>\n",
       "      <td>[Comedy, Family, Romance]</td>\n",
       "      <td>True</td>\n",
       "      <td>False</td>\n",
       "      <td>False</td>\n",
       "      <td>True</td>\n",
       "      <td>Sony</td>\n",
       "      <td>80400000.0</td>\n",
       "      <td>89500000</td>\n",
       "      <td>2011.0</td>\n",
       "      <td>71.0</td>\n",
       "      <td>Jul 8, 2011</td>\n",
       "      <td>$80,000,000</td>\n",
       "      <td>$80,360,866</td>\n",
       "      <td>$170,805,525</td>\n",
       "    </tr>\n",
       "    <tr>\n",
       "      <th>Zoolander 2</th>\n",
       "      <td>4.7</td>\n",
       "      <td>59914</td>\n",
       "      <td>Zoolander 2</td>\n",
       "      <td>2016</td>\n",
       "      <td>101.0</td>\n",
       "      <td>[Comedy]</td>\n",
       "      <td>True</td>\n",
       "      <td>False</td>\n",
       "      <td>False</td>\n",
       "      <td>False</td>\n",
       "      <td>Par.</td>\n",
       "      <td>28800000.0</td>\n",
       "      <td>27900000</td>\n",
       "      <td>2016.0</td>\n",
       "      <td>64.0</td>\n",
       "      <td>Feb 12, 2016</td>\n",
       "      <td>$50,000,000</td>\n",
       "      <td>$28,848,693</td>\n",
       "      <td>$55,348,693</td>\n",
       "    </tr>\n",
       "    <tr>\n",
       "      <th>Zootopia</th>\n",
       "      <td>8.0</td>\n",
       "      <td>383446</td>\n",
       "      <td>Zootopia</td>\n",
       "      <td>2016</td>\n",
       "      <td>108.0</td>\n",
       "      <td>[Adventure, Animation, Comedy]</td>\n",
       "      <td>True</td>\n",
       "      <td>False</td>\n",
       "      <td>False</td>\n",
       "      <td>False</td>\n",
       "      <td>BV</td>\n",
       "      <td>341300000.0</td>\n",
       "      <td>682500000</td>\n",
       "      <td>2016.0</td>\n",
       "      <td>57.0</td>\n",
       "      <td>Mar 4, 2016</td>\n",
       "      <td>$150,000,000</td>\n",
       "      <td>$341,268,248</td>\n",
       "      <td>$1,019,429,616</td>\n",
       "    </tr>\n",
       "  </tbody>\n",
       "</table>\n",
       "<p>1412 rows × 19 columns</p>\n",
       "</div>"
      ],
      "text/plain": [
       "                     averagerating  numvotes       original_title  start_year  \\\n",
       "10 Cloverfield Lane            7.2    260383  10 Cloverfield Lane        2016   \n",
       "12 Strong                      6.6     50155            12 Strong        2018   \n",
       "12 Years a Slave               8.1    577301     12 Years a Slave        2013   \n",
       "127 Hours                      7.6    323949            127 Hours        2010   \n",
       "13 Sins                        6.3     29550              13 Sins        2014   \n",
       "...                            ...       ...                  ...         ...   \n",
       "Youth                          7.3     64418                Youth        2015   \n",
       "Zero Dark Thirty               7.4    251072     Zero Dark Thirty        2012   \n",
       "Zookeeper                      5.2     52396            Zookeeper        2011   \n",
       "Zoolander 2                    4.7     59914          Zoolander 2        2016   \n",
       "Zootopia                       8.0    383446             Zootopia        2016   \n",
       "\n",
       "                     runtime_minutes                          genres  \\\n",
       "10 Cloverfield Lane            103.0        [Drama, Horror, Mystery]   \n",
       "12 Strong                      130.0        [Action, Drama, History]   \n",
       "12 Years a Slave               134.0     [Biography, Drama, History]   \n",
       "127 Hours                       94.0   [Adventure, Biography, Drama]   \n",
       "13 Sins                         93.0              [Horror, Thriller]   \n",
       "...                              ...                             ...   \n",
       "Youth                          124.0          [Comedy, Drama, Music]   \n",
       "Zero Dark Thirty               157.0               [Drama, Thriller]   \n",
       "Zookeeper                      102.0       [Comedy, Family, Romance]   \n",
       "Zoolander 2                    101.0                        [Comedy]   \n",
       "Zootopia                       108.0  [Adventure, Animation, Comedy]   \n",
       "\n",
       "                     is_comedy  is_action  is_horror  is_romance studio  \\\n",
       "10 Cloverfield Lane      False      False       True       False   Par.   \n",
       "12 Strong                False       True      False       False     WB   \n",
       "12 Years a Slave         False      False      False       False   FoxS   \n",
       "127 Hours                False      False      False       False   FoxS   \n",
       "13 Sins                  False      False       True       False   RTWC   \n",
       "...                        ...        ...        ...         ...    ...   \n",
       "Youth                     True      False      False       False   FoxS   \n",
       "Zero Dark Thirty         False      False      False       False   Sony   \n",
       "Zookeeper                 True      False      False        True   Sony   \n",
       "Zoolander 2               True      False      False       False   Par.   \n",
       "Zootopia                  True      False      False       False     BV   \n",
       "\n",
       "                     domestic_gross foreign_gross    year    id  release_date  \\\n",
       "10 Cloverfield Lane      72100000.0      38100000  2016.0  54.0  Mar 11, 2016   \n",
       "12 Strong                45800000.0      21600000  2018.0  64.0  Jan 19, 2018   \n",
       "12 Years a Slave         56700000.0     131100000  2013.0  18.0  Oct 18, 2013   \n",
       "127 Hours                18300000.0      42400000  2010.0   6.0   Nov 5, 2010   \n",
       "13 Sins                     13800.0           NaN  2014.0  51.0  Apr 18, 2014   \n",
       "...                             ...           ...     ...   ...           ...   \n",
       "Youth                     2700000.0           NaN  2015.0  99.0   Dec 4, 2015   \n",
       "Zero Dark Thirty         95700000.0      37100000  2012.0  66.0  Dec 19, 2012   \n",
       "Zookeeper                80400000.0      89500000  2011.0  71.0   Jul 8, 2011   \n",
       "Zoolander 2              28800000.0      27900000  2016.0  64.0  Feb 12, 2016   \n",
       "Zootopia                341300000.0     682500000  2016.0  57.0   Mar 4, 2016   \n",
       "\n",
       "                    production_budget domestic_gross_tn worldwide_gross  \n",
       "10 Cloverfield Lane        $5,000,000       $72,082,999    $108,286,422  \n",
       "12 Strong                 $35,000,000       $45,819,713     $71,118,378  \n",
       "12 Years a Slave          $20,000,000       $56,671,993    $181,025,343  \n",
       "127 Hours                 $18,000,000       $18,335,230     $60,217,171  \n",
       "13 Sins                    $4,000,000            $9,134         $47,552  \n",
       "...                               ...               ...             ...  \n",
       "Youth                     $13,000,000        $2,703,296     $24,001,573  \n",
       "Zero Dark Thirty          $52,500,000       $95,720,716    $134,612,435  \n",
       "Zookeeper                 $80,000,000       $80,360,866    $170,805,525  \n",
       "Zoolander 2               $50,000,000       $28,848,693     $55,348,693  \n",
       "Zootopia                 $150,000,000      $341,268,248  $1,019,429,616  \n",
       "\n",
       "[1412 rows x 19 columns]"
      ]
     },
     "execution_count": 36,
     "metadata": {},
     "output_type": "execute_result"
    }
   ],
   "source": [
    "#combined all csv files containing data from imdb, rt, tndb and renamed it as:\n",
    "\n",
    "filtered_all_df"
   ]
  },
  {
   "cell_type": "markdown",
   "metadata": {},
   "source": [
    "Average rating vs movie run time:\n",
    "\n",
    "The following graph shows the correlation between movie run time and movie ratings. \n",
    "Based on the graph, movies run between 115 minutes have consistent higher ratings. \n",
    "Any movie with higher than 115 mins have =<6 ratings."
   ]
  },
  {
   "cell_type": "code",
   "execution_count": 72,
   "metadata": {},
   "outputs": [
    {
     "data": {
      "text/plain": [
       "[(6.5, 8.0)]"
      ]
     },
     "execution_count": 72,
     "metadata": {},
     "output_type": "execute_result"
    },
    {
     "data": {
      "image/png": "[encoded data removed]",
      "text/plain": [
       "<Figure size 7200x1440 with 1 Axes>"
      ]
     },
     "metadata": {},
     "output_type": "display_data"
    }
   ],
   "source": [
    "#To draw bar graph:\n",
    "plt.figure(figsize=(100,20))\n",
    "plt.title(\"Average Rating vs Movie Run Time\")\n",
    "sns.barplot(x = 'runtime_minutes', y = 'averagerating', data = filtered_all_df)\n",
    "g=sns.barplot(x = 'runtime_minutes', y = 'averagerating', data = filtered_all_df)\n",
    "g.set(ylim=(6.5, 8))"
   ]
  },
  {
   "cell_type": "markdown",
   "metadata": {},
   "source": [
    "Average rating vs movie start year:\n",
    "\n",
    "The following graph shows the correlation between movie release year and movie ratings. \n",
    "Based on the graph, the decrease in ratings for films in 2010-2011 was presumably caused by the recession of 2008 to 2010.\n",
    "But it also may be due to a reporting delay for low-budget films. \n",
    "Movies released in 2014 seem to have rated higher than previous year. This could be due to higher production budget and better marketing agenda.\n",
    "The lower ratings for the year of 2017 can be caused by advertising campaigns, sequel fatigue or home streaming which became very popular in 2015 & onwards.\n",
    "\n",
    "According to https://www.statista.com/statistics/187122/movie-releases-in-north-america-since-2001/, number of movie released in 2019 is the highest in last 20 years which explain the higher rating as well.\n"
   ]
  },
  {
   "cell_type": "code",
   "execution_count": 69,
   "metadata": {},
   "outputs": [
    {
     "data": {
      "text/plain": [
       "[(6.3, 6.7)]"
      ]
     },
     "execution_count": 69,
     "metadata": {},
     "output_type": "execute_result"
    },
    {
     "data": {
      "image/png": "[encoded data removed]",
      "text/plain": [
       "<Figure size 1800x1080 with 1 Axes>"
      ]
     },
     "metadata": {},
     "output_type": "display_data"
    }
   ],
   "source": [
    "t#To draw bar graph:\n",
    "plt.figure(figsize=(25,15))\n",
    "plt.title(\"Averagerating vs Start Year\")\n",
    "sns.barplot(x = 'start_year', y = 'averagerating', data = filtered_all_df)\n",
    "g=sns.barplot(x = 'start_year', y = 'averagerating', data = filtered_all_df)\n",
    "g.set(ylim=(6.3, 6.7))"
   ]
  },
  {
   "cell_type": "code",
   "execution_count": 86,
   "metadata": {},
   "outputs": [
    {
     "data": {
      "text/plain": [
       "[(6.3, 6.5)]"
      ]
     },
     "execution_count": 86,
     "metadata": {},
     "output_type": "execute_result"
    },
    {
     "data": {
      "image/png": "[encoded data removed]",
      "text/plain": [
       "<Figure size 720x360 with 1 Axes>"
      ]
     },
     "metadata": {},
     "output_type": "display_data"
    }
   ],
   "source": [
    "#To draw bar graph:\n",
    "plt.figure(figsize=(10,5))\n",
    "plt.title(\"Averagerating vs Comedy\")\n",
    "sns.barplot(x = 'is_comedy', y = 'averagerating', data = filtered_all_df)\n",
    "g=sns.barplot(x = 'is_comedy', y = 'averagerating', data = filtered_all_df)\n",
    "g.set(ylim=(6.30, 6.5))"
   ]
  },
  {
   "cell_type": "code",
   "execution_count": 88,
   "metadata": {},
   "outputs": [
    {
     "data": {
      "text/plain": [
       "[(6.38, 6.46)]"
      ]
     },
     "execution_count": 88,
     "metadata": {},
     "output_type": "execute_result"
    },
    {
     "data": {
      "image/png": "[encoded data removed]",
      "text/plain": [
       "<Figure size 720x360 with 1 Axes>"
      ]
     },
     "metadata": {},
     "output_type": "display_data"
    }
   ],
   "source": [
    "#To draw bar graph:\n",
    "plt.figure(figsize=(10,5))\n",
    "plt.title(\"Averagerating vs Action\")\n",
    "sns.barplot(x = 'is_action', y = 'averagerating', data = filtered_all_df)\n",
    "g=sns.barplot(x = 'is_action', y = 'averagerating', data = filtered_all_df)\n",
    "g.set(ylim=(6.38, 6.46))"
   ]
  },
  {
   "cell_type": "code",
   "execution_count": 83,
   "metadata": {},
   "outputs": [
    {
     "data": {
      "text/plain": [
       "[(5.5, 6.55)]"
      ]
     },
     "execution_count": 83,
     "metadata": {},
     "output_type": "execute_result"
    },
    {
     "data": {
      "image/png": "[encoded data removed]",
      "text/plain": [
       "<Figure size 720x360 with 1 Axes>"
      ]
     },
     "metadata": {},
     "output_type": "display_data"
    }
   ],
   "source": [
    "#To draw bar graph:\n",
    "plt.figure(figsize=(10,5))\n",
    "plt.title(\"Averagerating vs Horror\")\n",
    "sns.barplot(x = 'is_horror', y = 'averagerating', data = filtered_all_df)\n",
    "g=sns.barplot(x = 'is_horror', y = 'averagerating', data = filtered_all_df)\n",
    "g.set(ylim=(5.5, 6.55))"
   ]
  },
  {
   "cell_type": "markdown",
   "metadata": {},
   "source": [
    "Average rating vs Genre\n",
    "\n",
    "Movie ratings are based on following genre: \n",
    "\n",
    "Action (6.39) > Romance (6.38) > Comedy (6.32) > Horror (5.7)"
   ]
  },
  {
   "cell_type": "code",
   "execution_count": 91,
   "metadata": {},
   "outputs": [
    {
     "data": {
      "text/plain": [
       "[(6.35, 6.5)]"
      ]
     },
     "execution_count": 91,
     "metadata": {},
     "output_type": "execute_result"
    },
    {
     "data": {
      "image/png": "[encoded data removed]",
      "text/plain": [
       "<Figure size 720x360 with 1 Axes>"
      ]
     },
     "metadata": {},
     "output_type": "display_data"
    }
   ],
   "source": [
    "\n",
    "#To draw bar graph:\n",
    "plt.figure(figsize=(10,5))\n",
    "plt.title(\"Averagerating vs Romance\")\n",
    "sns.barplot(x = 'is_romance', y = 'averagerating', data = filtered_all_df)\n",
    "g=sns.barplot(x = 'is_romance', y = 'averagerating', data = filtered_all_df)\n",
    "g.set(ylim=(6.35, 6.50))"
   ]
  },
  {
   "cell_type": "markdown",
   "metadata": {},
   "source": [
    "The following bar graph is to show the correlation between average rating and studio.\n",
    "Movies produced in certain studio have higher ratings. \n",
    "For example, movies produced by Cleopetra, BSC, Neon, BBC receives =<7 ratings."
   ]
  },
  {
   "cell_type": "code",
   "execution_count": 96,
   "metadata": {},
   "outputs": [
    {
     "data": {
      "text/plain": [
       "[(7.0, 7.5)]"
      ]
     },
     "execution_count": 96,
     "metadata": {},
     "output_type": "execute_result"
    },
    {
     "data": {
      "image/png": "[encoded data removed]",
      "text/plain": [
       "<Figure size 1800x1440 with 1 Axes>"
      ]
     },
     "metadata": {},
     "output_type": "display_data"
    }
   ],
   "source": [
    "#correlation between ratings & producing studio\n",
    "plt.figure(figsize=(25,20))\n",
    "plt.title(\"Averagerating vs Studio\")\n",
    "sns.barplot(x = 'averagerating', y = 'studio', data = filtered_all_df)\n",
    "g=sns.barplot(x = 'averagerating', y = 'studio', data = filtered_all_df)\n",
    "g.set(xlim=(7, 7.5))"
   ]
  },
  {
   "cell_type": "markdown",
   "metadata": {},
   "source": [
    "The following graph is to show the correlation between production_budget and worldwide_gross\n",
    "\n",
    "\n",
    "Based on the graph, the production budget of =<$200,000,000 gives a movie higher worldwide gross. \n",
    "\n",
    "Though, there are some outliers present in the data."
   ]
  },
  {
   "cell_type": "code",
   "execution_count": 98,
   "metadata": {},
   "outputs": [
    {
     "data": {
      "text/plain": [
       "Text(0.5, 1.0, 'Budget vs Gross')"
      ]
     },
     "execution_count": 98,
     "metadata": {},
     "output_type": "execute_result"
    },
    {
     "data": {
      "image/png": "[encoded data removed]",
      "text/plain": [
       "<Figure size 432x288 with 1 Axes>"
      ]
     },
     "metadata": {},
     "output_type": "display_data"
    }
   ],
   "source": [
    "#correlation between production_budget and worldwide_gross\n",
    "\n",
    "x=filtered_all_df.production_budget.apply(lambda x: int(x.replace(',','').replace('$','')))\n",
    "y=filtered_all_df.worldwide_gross.apply(lambda x: int(x.replace(',','').replace('$','')))\n",
    "sns.regplot(x=x, y=y)\n",
    "plt.title(\"Budget vs Gross\")"
   ]
  },
  {
   "cell_type": "markdown",
   "metadata": {},
   "source": [
    "The following graph is to show the correlation between production_budget and domestic_gross\n",
    "\n",
    "\n",
    "Based on the graph, the production budget of =<$200,000,000 gives a movie higher domestic gross.\n",
    "Though, there are some outliers present in the data."
   ]
  },
  {
   "cell_type": "code",
   "execution_count": 149,
   "metadata": {},
   "outputs": [
    {
     "data": {
      "text/plain": [
       "Text(0.5, 1.0, 'Budget vs Gross')"
      ]
     },
     "execution_count": 149,
     "metadata": {},
     "output_type": "execute_result"
    },
    {
     "data": {
      "image/png": "[encoded data removed]",
      "text/plain": [
       "<Figure size 432x288 with 1 Axes>"
      ]
     },
     "metadata": {
      "needs_background": "light"
     },
     "output_type": "display_data"
    }
   ],
   "source": [
    "#correlation between production_budget and domestic_gross\n",
    "\n",
    "x=filtered_all_df.production_budget.apply(lambda x: int(x.replace(',','').replace('$','')))\n",
    "y=filtered_all_df.domestic_gross_tn\t.apply(lambda x: int(x.replace(',','').replace('$','')))\n",
    "sns.regplot(x=x, y=y)\n",
    "plt.title(\"Budget vs Gross\")"
   ]
  },
  {
   "cell_type": "markdown",
   "metadata": {},
   "source": [
    "# Conclusions:\n",
    "Based on the analysis performed above, the conclusion can be as follows:\n",
    "- Movie runtime should be between 60 minutes to 130. \n",
    "- Since movie released in 2010 was effected by recession from prior years, it is possible that movie released in 2022 or 2023 may be effected by Covid-19.\n",
    "- Therefore, it is suggected that the targeted movie released year should be 2024 or onward.\n",
    "- Movie ratings are based on following genre: Romance > Comedy > Action > Horror. Suggested genre for 1st time movie should be chosen from the 1st 3 genre.\n",
    "- Movies produced in certain studio have higher ratings. Producing studio should be chosen based on the ratings.\n",
    "- The production budget should be <$200,000,000 to receive both domestic and worldwide return. \n",
    "- There are some outliers present in the data. \n"
   ]
  },
  {
   "cell_type": "markdown",
   "metadata": {},
   "source": [
    "# Future Works:\n",
    "\n",
    "Segmentation analysis\n",
    "\n",
    "The film industry categorises audiences in many different ways but often relies on an age-related scheme which closely follows the film certification categories (U, PG, 12A, 15, 18): Children (5-11 years old) Family groups. Teenagers / young couples / students. A segmentation analysis should be run to decide who is the targeted audience.\n",
    "\n",
    "Marketing budget and pr startegies should be analyzed to have a more better understanding on elements that play role on creating a successful films."
   ]
  },
  {
   "cell_type": "code",
   "execution_count": null,
   "metadata": {},
   "outputs": [],
   "source": []
  }
 ],
 "metadata": {
  "kernelspec": {
   "display_name": "Python 3",
   "language": "python",
   "name": "python3"
  },
  "language_info": {
   "codemirror_mode": {
    "name": "ipython",
    "version": 3
   },
   "file_extension": ".py",
   "mimetype": "text/x-python",
   "name": "python",
   "nbconvert_exporter": "python",
   "pygments_lexer": "ipython3",
   "version": "3.8.5"
  },
  "toc": {
   "base_numbering": 1,
   "nav_menu": {},
   "number_sections": true,
   "sideBar": true,
   "skip_h1_title": false,
   "title_cell": "Table of Contents",
   "title_sidebar": "Contents",
   "toc_cell": false,
   "toc_position": {},
   "toc_section_display": true,
   "toc_window_display": true
  }
 },
 "nbformat": 4,
 "nbformat_minor": 2
}
